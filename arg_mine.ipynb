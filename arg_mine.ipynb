{
 "cells": [
  {
   "cell_type": "code",
   "execution_count": 239,
   "metadata": {
    "collapsed": true
   },
   "outputs": [],
   "source": [
    "import openai\n",
    "import os\n",
    "import load_config\n",
    "\n",
    "KEY = os.getenv(\"KEY\")\n",
    "openai.api_key = KEY"
   ]
  },
  {
   "cell_type": "code",
   "execution_count": 22,
   "outputs": [],
   "source": [
    "import json\n",
    "from pprint import pprint\n",
    "\n",
    "debates = [json.loads(_) for _ in open(\"data/pmqs_parsed_2022-11-30.jsonl\", \"r\")]\n",
    "\n",
    "questions = []\n",
    "for _ in debates:\n",
    "    question = _[\"question\"]\n",
    "    if \"member\" in question:\n",
    "        questions.extend(question[\"member\"])\n",
    "\n",
    "    else:\n",
    "        questions.extend(question[\"opposition\"])\n",
    "\n",
    "sample = questions[1:11]"
   ],
   "metadata": {
    "collapsed": false
   }
  },
  {
   "cell_type": "code",
   "execution_count": 25,
   "outputs": [
    {
     "name": "stdout",
     "output_type": "stream",
     "text": [
      "Can you identify the claims and premises in the following text: In 2014, the Prime Minister’s predecessor David Cameron signed up to the Smith commission, which promised among other things that“nothing in this report prevents Scotland becoming an independent country…should the people of Scotland so choose.”Does the Prime Minister share that view? If he does, in the light of last week’s Supreme Court judgment, will he bring forward legislation to allow that choice to be exercised?\n",
      "Can you identify the claims and premises in the following text: I have just returned from the south Pacific and—[Interruption.] I have resisted the All Blacks jokes. I found a deep concern there about the expanding tentacles of communist China. Does my right hon. Friend agree that China is more than just “a systemic challenge”, as he has put it, and is in fact an expanding, serious geopolitical threat? (902524)\n",
      "Can you identify the claims and premises in the following text: I join the Prime Minister in saying, “Well done England”, and I hope we will be able to say that next week and the week after. I also send commiserations to Wales, who I am sure will be back in the World Cup tournament before too long. And, of course, we mark the fact that tomorrow is World AIDS Day.Winchester College has a rowing club, a rifle club and an extensive art collection. It charges more than £45,000 a year in fees. Why did the Prime Minister hand Winchester nearly £6 million of taxpayers’ money this year, in what his Levelling Up Secretary has called “egregious state support”?\n",
      "Can you identify the claims and premises in the following text: The Prime Minister’s Levelling Up Secretary, the right hon. Member for Surrey Heath (Michael Gove), who, after all, was Education Secretary for four years—and I see him down there—has said:“We could scarcely find a better way of doing that”—of ending what he described as “burning injustices”—than scrapping these handouts. The Prime Minister talks about driving up standards. Just down the road from Winchester, in Southampton—and he will know this—four in every 10 pupils failed English or maths GCSE this year. Is that £6 million of taxpayers’ money better spent on rifle ranges in Winchester, or on driving up standards in Southampton?\n",
      "Can you identify the claims and premises in the following text: If the Prime Minister thinks that the route to better education in this country is tax breaks for private schools in the hope that they might hand some of that money down to state schools, that is laughable. Trickle-down education is nonsense. But it is not just the Levelling Up Secretary; his Education Minister, sitting there, asks, “How much better would it be if Conservatives got rid of these handouts?”The Prime Minister talks about his record. It is simple: he can carry on being pushed around by the lobbyists, giving away £1.7 billion to private schools every year, or we can put that money to good use, and end the Tory scandal. He talks about his record, while hundreds of thousands of children are leaving school without the qualifications that they need. I have made my choice. What is his?\n",
      "Can you identify the claims and premises in the following text: The Prime Minister really does need to get out more. He talks about aspiration. They are killing off aspiration in this country, and it is not just about education—why is the dream of home ownership far more remote now than it was when his party came to power 12 years ago?\n",
      "Can you identify the claims and premises in the following text: Would you believe it, Mr Speaker? The simple fact is this: every year, the age at which people can buy their first home goes up. At this rate, under this Government, a child born in the UK today would not be able to buy their first home until they were 45. I love my kids, but I do not want to be cooking them dinner in 30 years’ time. I have heard that the right hon. Gentleman is having a relaunch. Apparently it is called Operation Get Tough, so how tough is he going to get with his Back Benchers who are blocking the new homes this country so badly needs?\n",
      "Can you identify the claims and premises in the following text: Whichever way you slice it, it is always the same: whether it is private schools, oil giants or those who do not pay their taxes here, every week the right hon. Gentleman hands out cash to those who do not need it. Every week he gets pushed around, and every week he gets weaker. But I can help him with this one. He does not need to do another grubby deal. If he wants to defeat that amendment from his anti-growth Back Benchers on national targets for housing, Labour will lend him the votes to do so. Country before party—that is the Labour way. Why doesn’t he try it?\n",
      "Can you identify the claims and premises in the following text: As hosts of this week’s international Preventing Sexual Violence in Conflict Initiative conference, the UK again highlighted the need for more action to prevent sexual violence in conflict. Given the heartrending accounts of women in Ukraine being brutalised in this way and the reports that a third of women in conflict zones can be victims, will the Prime Minister champion with me, as his special envoy for freedom of religion or belief, the work being undertaken with young people across the world to stop religion or belief being weaponised, which can later manifest into sexual violence in conflict? (902525)\n",
      "Can you identify the claims and premises in the following text: I am sure the whole House will want to join me in sending prayers and condolences to the wife of Doddie Weir, who sadly passed away at the weekend. He was an absolute giant of a man, an inspirational figure in Scottish rugby and someone who raised £8 million for motor neurone disease charities over the past six years. Our thoughts are with Kathy, with Hamish, with Angus and with Ben.Let me wish everyone a happy St Andrew’s day. Those who know anything about St Andrew will know that he is not just the patron of Scotland; he is celebrated right across Europe. That is why it is such a sad sight to watch this Prime Minister ram through a Bill that would rip up 4,000 pieces of European law—laws that protect workers’ rights, food standards and environmental protections. And it is an even worse sight watching the leader of the Labour party desperately trying to out-Brexit the Prime Minister, ruling out freedom of movement and any hope of a Swiss-style deal. Brexit is now the elephant in the room that neither the Tories nor Labour are willing to confront. When will the Prime Minister finally see reality and admit that Brexit is a significant long-term cause of the UK economic crisis?\n"
     ]
    }
   ],
   "source": [
    "# TODO: Sample of 10\n",
    "# TODO: Argument Maps\n",
    "\n",
    "prompt = \"Can you identify the claims and premises in the following text: \"\n",
    "prompt + sample[1]\n",
    "\n",
    "for _ in sample:\n",
    "    print(prompt + _)"
   ],
   "metadata": {
    "collapsed": false
   }
  },
  {
   "cell_type": "code",
   "execution_count": 28,
   "outputs": [],
   "source": [
    "def gpt_batch(sample):\n",
    "    prompt = \"Identify the claims and premises in the following text: \"\n",
    "\n",
    "    parsed = []\n",
    "    for _ in sample:\n",
    "        response = openai.Completion.create(\n",
    "            model=\"text-davinci-003\",\n",
    "            prompt= prompt  + _,\n",
    "            temperature=1,\n",
    "            max_tokens=2500\n",
    "        )\n",
    "        parsed.append(response)\n",
    "\n",
    "    return parsed"
   ],
   "metadata": {
    "collapsed": false
   }
  },
  {
   "cell_type": "code",
   "execution_count": 31,
   "outputs": [],
   "source": [
    "result = gpt_batch(sample)"
   ],
   "metadata": {
    "collapsed": false
   }
  },
  {
   "cell_type": "code",
   "execution_count": 32,
   "outputs": [
    {
     "data": {
      "text/plain": "[<OpenAIObject text_completion id=cmpl-6TEJge3jfTGkVNVnIMDSHH8NPrhAr at 0x1302ba860> JSON: {\n   \"choices\": [\n     {\n       \"finish_reason\": \"stop\",\n       \"index\": 0,\n       \"logprobs\": null,\n       \"text\": \"\\n\\nClaim: The Prime Minister should bring forward legislation to allow the people of Scotland to exercise the choice of becoming an independent country. \\nPremise 1: David Cameron signed up to the Smith commission. \\nPremise 2: The Smith commission promised that nothing in the report would stop Scotland becoming an independent country should the people choose. \\nPremise 3: The Supreme Court judgment has passed.\"\n     }\n   ],\n   \"created\": 1672424564,\n   \"id\": \"cmpl-6TEJge3jfTGkVNVnIMDSHH8NPrhAr\",\n   \"model\": \"text-davinci-003\",\n   \"object\": \"text_completion\",\n   \"usage\": {\n     \"completion_tokens\": 82,\n     \"prompt_tokens\": 97,\n     \"total_tokens\": 179\n   }\n },\n <OpenAIObject text_completion id=cmpl-6TEJjUz3muD2TBfqDtxLxNhM0bwDX at 0x1302a1400> JSON: {\n   \"choices\": [\n     {\n       \"finish_reason\": \"stop\",\n       \"index\": 0,\n       \"logprobs\": null,\n       \"text\": \"\\n\\nClaim: China is more than just \\\"a systemic challenge\\\" and is in fact an expanding, serious geopolitical threat\\nPremise: I have just returned from the south Pacific and found a deep concern there about the expanding tentacles of communist China.\"\n     }\n   ],\n   \"created\": 1672424567,\n   \"id\": \"cmpl-6TEJjUz3muD2TBfqDtxLxNhM0bwDX\",\n   \"model\": \"text-davinci-003\",\n   \"object\": \"text_completion\",\n   \"usage\": {\n     \"completion_tokens\": 50,\n     \"prompt_tokens\": 90,\n     \"total_tokens\": 140\n   }\n },\n <OpenAIObject text_completion id=cmpl-6TEJl9LzzGtGFuZSXvsy81xW3fi8E at 0x13050c7c0> JSON: {\n   \"choices\": [\n     {\n       \"finish_reason\": \"stop\",\n       \"index\": 0,\n       \"logprobs\": null,\n       \"text\": \"\\n\\nClaim: Why did the Prime Minister hand Winchester nearly \\u00a36 million of taxpayers' money this year?\\n\\nPremise 1: Winchester College charges more than \\u00a345,000 a year in fees.\\nPremise 2: The Prime Minister's Levelling Up Secretary called it \\\"egregious state support\\\".\"\n     }\n   ],\n   \"created\": 1672424569,\n   \"id\": \"cmpl-6TEJl9LzzGtGFuZSXvsy81xW3fi8E\",\n   \"model\": \"text-davinci-003\",\n   \"object\": \"text_completion\",\n   \"usage\": {\n     \"completion_tokens\": 65,\n     \"prompt_tokens\": 156,\n     \"total_tokens\": 221\n   }\n },\n <OpenAIObject text_completion id=cmpl-6TEJoFA0WBXwyqi2LHWsvW61YfBFy at 0x13050c860> JSON: {\n   \"choices\": [\n     {\n       \"finish_reason\": \"stop\",\n       \"index\": 0,\n       \"logprobs\": null,\n       \"text\": \"\\n\\nClaim: Scrapping handouts is the best way to end burning injustices.\\nPremise: The Prime Minister talks about driving up standards; four in every 10 pupils failed English or maths GCSE in Southampton.\"\n     }\n   ],\n   \"created\": 1672424572,\n   \"id\": \"cmpl-6TEJoFA0WBXwyqi2LHWsvW61YfBFy\",\n   \"model\": \"text-davinci-003\",\n   \"object\": \"text_completion\",\n   \"usage\": {\n     \"completion_tokens\": 46,\n     \"prompt_tokens\": 159,\n     \"total_tokens\": 205\n   }\n },\n <OpenAIObject text_completion id=cmpl-6TEJpa5zzyRa1SwBuFo7RP6vueN5X at 0x13050c9a0> JSON: {\n   \"choices\": [\n     {\n       \"finish_reason\": \"stop\",\n       \"index\": 0,\n       \"logprobs\": null,\n       \"text\": \"\\n\\nClaim: Trickle-down education is nonsense\\nPremise: The Prime Minister thinks that tax breaks for private schools will improve education in the country\"\n     }\n   ],\n   \"created\": 1672424573,\n   \"id\": \"cmpl-6TEJpa5zzyRa1SwBuFo7RP6vueN5X\",\n   \"model\": \"text-davinci-003\",\n   \"object\": \"text_completion\",\n   \"usage\": {\n     \"completion_tokens\": 31,\n     \"prompt_tokens\": 183,\n     \"total_tokens\": 214\n   }\n },\n <OpenAIObject text_completion id=cmpl-6TEJrtNzuTBm2BaETbu8j0QrfoGaX at 0x13050cf40> JSON: {\n   \"choices\": [\n     {\n       \"finish_reason\": \"stop\",\n       \"index\": 0,\n       \"logprobs\": null,\n       \"text\": \"\\n\\nClaim: The Prime Minister really needs to get out more.\\nPremise: They are killing off aspiration in this country, and it is not just about education - why is the dream of home ownership far more remote now than it was when his party came to power 12 years ago?\"\n     }\n   ],\n   \"created\": 1672424575,\n   \"id\": \"cmpl-6TEJrtNzuTBm2BaETbu8j0QrfoGaX\",\n   \"model\": \"text-davinci-003\",\n   \"object\": \"text_completion\",\n   \"usage\": {\n     \"completion_tokens\": 59,\n     \"prompt_tokens\": 68,\n     \"total_tokens\": 127\n   }\n },\n <OpenAIObject text_completion id=cmpl-6TEJthBivb3FTCvWcL1yBVPNcs1M1 at 0x13050cf90> JSON: {\n   \"choices\": [\n     {\n       \"finish_reason\": \"stop\",\n       \"index\": 0,\n       \"logprobs\": null,\n       \"text\": \"\\n\\nClaim: Under this Government, a child born in the UK today would not be able to buy their first home until they were 45.\\nPremise: Every year, the age at which people can buy their first home goes up.\"\n     }\n   ],\n   \"created\": 1672424577,\n   \"id\": \"cmpl-6TEJthBivb3FTCvWcL1yBVPNcs1M1\",\n   \"model\": \"text-davinci-003\",\n   \"object\": \"text_completion\",\n   \"usage\": {\n     \"completion_tokens\": 49,\n     \"prompt_tokens\": 140,\n     \"total_tokens\": 189\n   }\n },\n <OpenAIObject text_completion id=cmpl-6TEJvhONZsucbwNeEgQkYWLX8Lkc2 at 0x13050d0e0> JSON: {\n   \"choices\": [\n     {\n       \"finish_reason\": \"stop\",\n       \"index\": 0,\n       \"logprobs\": null,\n       \"text\": \"\\n\\nClaim: The right hon. Gentleman does need to do another grubby deal, but Labour will lend him their votes to defeat the amendment from his anti-growth Back Benchers on national targets for housing if he wants.\\n\\nPremise: Every week the right hon Gentleman hands out cash to those who do not need it, he gets pushed around and gets weaker.\"\n     }\n   ],\n   \"created\": 1672424579,\n   \"id\": \"cmpl-6TEJvhONZsucbwNeEgQkYWLX8Lkc2\",\n   \"model\": \"text-davinci-003\",\n   \"object\": \"text_completion\",\n   \"usage\": {\n     \"completion_tokens\": 76,\n     \"prompt_tokens\": 144,\n     \"total_tokens\": 220\n   }\n },\n <OpenAIObject text_completion id=cmpl-6TEJywn8udTRSvZhrLB1NS3fiIiOD at 0x13050d6d0> JSON: {\n   \"choices\": [\n     {\n       \"finish_reason\": \"stop\",\n       \"index\": 0,\n       \"logprobs\": null,\n       \"text\": \"\\n\\nClaim: The Prime Minister should champion the work being done to stop religion or belief from being weaponized.\\n\\nPremises: \\n1. The UK highlighted the need for more action to prevent sexual violence in conflict. \\n2. Heartrending accounts of women in Ukraine being brutalized. \\n3. Reports that a third of women in conflict zones can be victims.\"\n     }\n   ],\n   \"created\": 1672424582,\n   \"id\": \"cmpl-6TEJywn8udTRSvZhrLB1NS3fiIiOD\",\n   \"model\": \"text-davinci-003\",\n   \"object\": \"text_completion\",\n   \"usage\": {\n     \"completion_tokens\": 80,\n     \"prompt_tokens\": 129,\n     \"total_tokens\": 209\n   }\n },\n <OpenAIObject text_completion id=cmpl-6TEK1ezCHPm2tCLXIQYMTebs1Ro8z at 0x13050d900> JSON: {\n   \"choices\": [\n     {\n       \"finish_reason\": \"stop\",\n       \"index\": 0,\n       \"logprobs\": null,\n       \"text\": \"\\n\\nClaim: \\\"It is such a sad sight to watch this Prime Minister ram through a Bill that would rip up 4,000 pieces of European law.\\\" \\nPremise: \\\"He was an absolute giant of a man, an inspirational figure in Scottish rugby and someone who raised \\u00a38 million for motor neurone disease charities over the past six years.\\\" \\nClaim: \\\"When will the Prime Minister finally see reality and admit that Brexit is a significant long-term cause of the UK economic crisis?\\\"\"\n     }\n   ],\n   \"created\": 1672424585,\n   \"id\": \"cmpl-6TEK1ezCHPm2tCLXIQYMTebs1Ro8z\",\n   \"model\": \"text-davinci-003\",\n   \"object\": \"text_completion\",\n   \"usage\": {\n     \"completion_tokens\": 102,\n     \"prompt_tokens\": 259,\n     \"total_tokens\": 361\n   }\n }]"
     },
     "execution_count": 32,
     "metadata": {},
     "output_type": "execute_result"
    }
   ],
   "source": [
    "result"
   ],
   "metadata": {
    "collapsed": false
   }
  },
  {
   "cell_type": "code",
   "execution_count": 46,
   "outputs": [
    {
     "name": "stderr",
     "output_type": "stream",
     "text": [
      "[nltk_data] Downloading package punkt to\n",
      "[nltk_data]     /Users/joshua_sheppard/nltk_data...\n",
      "[nltk_data]   Unzipping tokenizers/punkt.zip.\n"
     ]
    },
    {
     "data": {
      "text/plain": "True"
     },
     "execution_count": 46,
     "metadata": {},
     "output_type": "execute_result"
    }
   ],
   "source": [
    "import nltk\n",
    "nltk.download('punkt')"
   ],
   "metadata": {
    "collapsed": false
   }
  },
  {
   "cell_type": "code",
   "execution_count": 219,
   "outputs": [
    {
     "data": {
      "text/plain": "[{'id_': 0,\n  'debate': 'In 2014, the Prime Minister’s predecessor David Cameron signed up to the Smith commission, which promised among other things that“nothing in this report prevents Scotland becoming an independent country…should the people of Scotland so choose.”Does the Prime Minister share that view? If he does, in the light of last week’s Supreme Court judgment, will he bring forward legislation to allow that choice to be exercised?',\n  'claims': ['Claim: The Prime Minister should bring forward legislation to allow the people of Scotland to exercise the choice of becoming an independent country.'],\n  'premises': ['Premise 1: David Cameron signed up to the Smith commission.',\n   'Premise 2: The Smith commission promised that nothing in the report would stop Scotland becoming an independent country should the people choose.',\n   'Premise 3: The Supreme Court judgment has passed.']},\n {'id_': 1,\n  'debate': 'I have just returned from the south Pacific and—[Interruption.] I have resisted the All Blacks jokes. I found a deep concern there about the expanding tentacles of communist China. Does my right hon. Friend agree that China is more than just “a systemic challenge”, as he has put it, and is in fact an expanding, serious geopolitical threat? (902524)',\n  'claims': ['Claim: China is more than just \"a systemic challenge\" and is in fact an expanding, serious geopolitical threat'],\n  'premises': ['Premise: I have just returned from the south Pacific and found a deep concern there about the expanding tentacles of communist China.']},\n {'id_': 2,\n  'debate': 'I join the Prime Minister in saying, “Well done England”, and I hope we will be able to say that next week and the week after. I also send commiserations to Wales, who I am sure will be back in the World Cup tournament before too long. And, of course, we mark the fact that tomorrow is World AIDS Day.Winchester College has a rowing club, a rifle club and an extensive art collection. It charges more than £45,000 a year in fees. Why did the Prime Minister hand Winchester nearly £6 million of taxpayers’ money this year, in what his Levelling Up Secretary has called “egregious state support”?',\n  'claims': [\"Claim: Why did the Prime Minister hand Winchester nearly £6 million of taxpayers' money this year?\"],\n  'premises': ['Premise 1: Winchester College charges more than £45,000 a year in fees.',\n   'Premise 2: The Prime Minister\\'s Levelling Up Secretary called it \"egregious state support\".']},\n {'id_': 3,\n  'debate': 'The Prime Minister’s Levelling Up Secretary, the right hon. Member for Surrey Heath (Michael Gove), who, after all, was Education Secretary for four years—and I see him down there—has said:“We could scarcely find a better way of doing that”—of ending what he described as “burning injustices”—than scrapping these handouts. The Prime Minister talks about driving up standards. Just down the road from Winchester, in Southampton—and he will know this—four in every 10 pupils failed English or maths GCSE this year. Is that £6 million of taxpayers’ money better spent on rifle ranges in Winchester, or on driving up standards in Southampton?',\n  'claims': ['Claim: Scrapping handouts is the best way to end burning injustices.'],\n  'premises': ['Premise: The Prime Minister talks about driving up standards; four in every 10 pupils failed English or maths GCSE in Southampton.']},\n {'id_': 4,\n  'debate': 'If the Prime Minister thinks that the route to better education in this country is tax breaks for private schools in the hope that they might hand some of that money down to state schools, that is laughable. Trickle-down education is nonsense. But it is not just the Levelling Up Secretary; his Education Minister, sitting there, asks, “How much better would it be if Conservatives got rid of these handouts?”The Prime Minister talks about his record. It is simple: he can carry on being pushed around by the lobbyists, giving away £1.7 billion to private schools every year, or we can put that money to good use, and end the Tory scandal. He talks about his record, while hundreds of thousands of children are leaving school without the qualifications that they need. I have made my choice. What is his?',\n  'claims': ['Claim: Trickle-down education is nonsense'],\n  'premises': ['Premise: The Prime Minister thinks that tax breaks for private schools will improve education in the country']},\n {'id_': 5,\n  'debate': 'The Prime Minister really does need to get out more. He talks about aspiration. They are killing off aspiration in this country, and it is not just about education—why is the dream of home ownership far more remote now than it was when his party came to power 12 years ago?',\n  'claims': ['Claim: The Prime Minister really needs to get out more.'],\n  'premises': ['Premise: They are killing off aspiration in this country, and it is not just about education - why is the dream of home ownership far more remote now than it was when his party came to power 12 years ago?']},\n {'id_': 6,\n  'debate': 'Would you believe it, Mr Speaker? The simple fact is this: every year, the age at which people can buy their first home goes up. At this rate, under this Government, a child born in the UK today would not be able to buy their first home until they were 45. I love my kids, but I do not want to be cooking them dinner in 30 years’ time. I have heard that the right hon. Gentleman is having a relaunch. Apparently it is called Operation Get Tough, so how tough is he going to get with his Back Benchers who are blocking the new homes this country so badly needs?',\n  'claims': ['Claim: Under this Government, a child born in the UK today would not be able to buy their first home until they were 45.'],\n  'premises': ['Premise: Every year, the age at which people can buy their first home goes up.']},\n {'id_': 7,\n  'debate': 'Whichever way you slice it, it is always the same: whether it is private schools, oil giants or those who do not pay their taxes here, every week the right hon. Gentleman hands out cash to those who do not need it. Every week he gets pushed around, and every week he gets weaker. But I can help him with this one. He does not need to do another grubby deal. If he wants to defeat that amendment from his anti-growth Back Benchers on national targets for housing, Labour will lend him the votes to do so. Country before party—that is the Labour way. Why doesn’t he try it?',\n  'claims': ['Claim: The right hon. Gentleman does need to do another grubby deal, but Labour will lend him their votes to defeat the amendment from his anti-growth Back Benchers on national targets for housing if he wants.'],\n  'premises': ['Premise: Every week the right hon Gentleman hands out cash to those who do not need it, he gets pushed around and gets weaker.']},\n {'id_': 8,\n  'debate': 'As hosts of this week’s international Preventing Sexual Violence in Conflict Initiative conference, the UK again highlighted the need for more action to prevent sexual violence in conflict. Given the heartrending accounts of women in Ukraine being brutalised in this way and the reports that a third of women in conflict zones can be victims, will the Prime Minister champion with me, as his special envoy for freedom of religion or belief, the work being undertaken with young people across the world to stop religion or belief being weaponised, which can later manifest into sexual violence in conflict? (902525)',\n  'claims': ['Claim: The Prime Minister should champion the work being done to stop religion or belief from being weaponized.'],\n  'premises': []},\n {'id_': 9,\n  'debate': 'I am sure the whole House will want to join me in sending prayers and condolences to the wife of Doddie Weir, who sadly passed away at the weekend. He was an absolute giant of a man, an inspirational figure in Scottish rugby and someone who raised £8 million for motor neurone disease charities over the past six years. Our thoughts are with Kathy, with Hamish, with Angus and with Ben.Let me wish everyone a happy St Andrew’s day. Those who know anything about St Andrew will know that he is not just the patron of Scotland; he is celebrated right across Europe. That is why it is such a sad sight to watch this Prime Minister ram through a Bill that would rip up 4,000 pieces of European law—laws that protect workers’ rights, food standards and environmental protections. And it is an even worse sight watching the leader of the Labour party desperately trying to out-Brexit the Prime Minister, ruling out freedom of movement and any hope of a Swiss-style deal. Brexit is now the elephant in the room that neither the Tories nor Labour are willing to confront. When will the Prime Minister finally see reality and admit that Brexit is a significant long-term cause of the UK economic crisis?',\n  'claims': ['Claim: \"It is such a sad sight to watch this Prime Minister ram through a Bill that would rip up 4,000 pieces of European law.\"',\n   'Claim: \"When will the Prime Minister finally see reality and admit that Brexit is a significant long-term cause of the UK economic crisis?\"'],\n  'premises': ['Premise: \"He was an absolute giant of a man, an inspirational figure in Scottish rugby and someone who raised £8 million for motor neurone disease charities over the past six years.\"']}]"
     },
     "execution_count": 219,
     "metadata": {},
     "output_type": "execute_result"
    }
   ],
   "source": [
    "import re\n",
    "from nltk.tokenize import sent_tokenize\n",
    "\n",
    "parsed_args = []\n",
    "counta = 0\n",
    "\n",
    "for _ in result:\n",
    "    arg = {}\n",
    "\n",
    "    claim_premises = _[\"choices\"][0][\"text\"].split(\"\\n\")\n",
    "    claim_premises = list(filter(lambda x: (x.lower().strip() != \"\"), claim_premises))\n",
    "\n",
    "    claim_pattern = re.compile(\"Claim*[\\s\\d]*:\")\n",
    "    premise_pattern = re.compile(\"Premise*[\\s\\d]*:\")\n",
    "\n",
    "    arg[\"id_\"] = counta\n",
    "    arg[\"debate\"] = sample[counta]\n",
    "    arg[\"claims\"] = [_.strip() for _ in filter(claim_pattern.match, claim_premises)]\n",
    "    arg[\"premises\"] = [_.strip() for _ in filter(premise_pattern.match, claim_premises)]\n",
    "\n",
    "    parsed_args.append(arg)\n",
    "    counta += 1\n",
    "\n",
    "parsed_args"
   ],
   "metadata": {
    "collapsed": false
   }
  },
  {
   "cell_type": "code",
   "execution_count": 118,
   "outputs": [
    {
     "data": {
      "text/plain": "'I have just returned from the south Pacific and found a deep concern there about the expanding tentacles of communist China.'"
     },
     "execution_count": 118,
     "metadata": {},
     "output_type": "execute_result"
    }
   ],
   "source": [
    "debate = parsed_args[1]\n",
    "claim = re.sub(claim_pattern, \"\", debate[\"claims\"][0]).strip()\n",
    "premise_1 = re.sub(premise_pattern, \"\", debate[\"premises\"][0]).strip()"
   ],
   "metadata": {
    "collapsed": false
   }
  },
  {
   "cell_type": "code",
   "execution_count": 229,
   "outputs": [],
   "source": [
    "# TODO: Graphviz\n",
    "# TODO: Dash\n",
    "# TODO: Entity Recognition\n",
    "# TODO: Entity Linking"
   ],
   "metadata": {
    "collapsed": false
   }
  },
  {
   "cell_type": "code",
   "execution_count": 221,
   "outputs": [
    {
     "data": {
      "text/plain": "[{'id_': 0,\n  'debate': 'In 2014, the Prime Minister’s predecessor David Cameron signed up to the Smith commission, which promised among other things that“nothing in this report prevents Scotland becoming an independent country…should the people of Scotland so choose.”Does the Prime Minister share that view? If he does, in the light of last week’s Supreme Court judgment, will he bring forward legislation to allow that choice to be exercised?',\n  'claims': ['Claim: The Prime Minister should bring forward legislation to allow the people of Scotland to exercise the choice of becoming an independent country.'],\n  'premises': ['Premise 1: David Cameron signed up to the Smith commission.',\n   'Premise 2: The Smith commission promised that nothing in the report would stop Scotland becoming an independent country should the people choose.',\n   'Premise 3: The Supreme Court judgment has passed.']},\n {'id_': 1,\n  'debate': 'I have just returned from the south Pacific and—[Interruption.] I have resisted the All Blacks jokes. I found a deep concern there about the expanding tentacles of communist China. Does my right hon. Friend agree that China is more than just “a systemic challenge”, as he has put it, and is in fact an expanding, serious geopolitical threat? (902524)',\n  'claims': ['Claim: China is more than just \"a systemic challenge\" and is in fact an expanding, serious geopolitical threat'],\n  'premises': ['Premise: I have just returned from the south Pacific and found a deep concern there about the expanding tentacles of communist China.']},\n {'id_': 2,\n  'debate': 'I join the Prime Minister in saying, “Well done England”, and I hope we will be able to say that next week and the week after. I also send commiserations to Wales, who I am sure will be back in the World Cup tournament before too long. And, of course, we mark the fact that tomorrow is World AIDS Day.Winchester College has a rowing club, a rifle club and an extensive art collection. It charges more than £45,000 a year in fees. Why did the Prime Minister hand Winchester nearly £6 million of taxpayers’ money this year, in what his Levelling Up Secretary has called “egregious state support”?',\n  'claims': [\"Claim: Why did the Prime Minister hand Winchester nearly £6 million of taxpayers' money this year?\"],\n  'premises': ['Premise 1: Winchester College charges more than £45,000 a year in fees.',\n   'Premise 2: The Prime Minister\\'s Levelling Up Secretary called it \"egregious state support\".']},\n {'id_': 3,\n  'debate': 'The Prime Minister’s Levelling Up Secretary, the right hon. Member for Surrey Heath (Michael Gove), who, after all, was Education Secretary for four years—and I see him down there—has said:“We could scarcely find a better way of doing that”—of ending what he described as “burning injustices”—than scrapping these handouts. The Prime Minister talks about driving up standards. Just down the road from Winchester, in Southampton—and he will know this—four in every 10 pupils failed English or maths GCSE this year. Is that £6 million of taxpayers’ money better spent on rifle ranges in Winchester, or on driving up standards in Southampton?',\n  'claims': ['Claim: Scrapping handouts is the best way to end burning injustices.'],\n  'premises': ['Premise: The Prime Minister talks about driving up standards; four in every 10 pupils failed English or maths GCSE in Southampton.']},\n {'id_': 4,\n  'debate': 'If the Prime Minister thinks that the route to better education in this country is tax breaks for private schools in the hope that they might hand some of that money down to state schools, that is laughable. Trickle-down education is nonsense. But it is not just the Levelling Up Secretary; his Education Minister, sitting there, asks, “How much better would it be if Conservatives got rid of these handouts?”The Prime Minister talks about his record. It is simple: he can carry on being pushed around by the lobbyists, giving away £1.7 billion to private schools every year, or we can put that money to good use, and end the Tory scandal. He talks about his record, while hundreds of thousands of children are leaving school without the qualifications that they need. I have made my choice. What is his?',\n  'claims': ['Claim: Trickle-down education is nonsense'],\n  'premises': ['Premise: The Prime Minister thinks that tax breaks for private schools will improve education in the country']},\n {'id_': 5,\n  'debate': 'The Prime Minister really does need to get out more. He talks about aspiration. They are killing off aspiration in this country, and it is not just about education—why is the dream of home ownership far more remote now than it was when his party came to power 12 years ago?',\n  'claims': ['Claim: The Prime Minister really needs to get out more.'],\n  'premises': ['Premise: They are killing off aspiration in this country, and it is not just about education - why is the dream of home ownership far more remote now than it was when his party came to power 12 years ago?']},\n {'id_': 6,\n  'debate': 'Would you believe it, Mr Speaker? The simple fact is this: every year, the age at which people can buy their first home goes up. At this rate, under this Government, a child born in the UK today would not be able to buy their first home until they were 45. I love my kids, but I do not want to be cooking them dinner in 30 years’ time. I have heard that the right hon. Gentleman is having a relaunch. Apparently it is called Operation Get Tough, so how tough is he going to get with his Back Benchers who are blocking the new homes this country so badly needs?',\n  'claims': ['Claim: Under this Government, a child born in the UK today would not be able to buy their first home until they were 45.'],\n  'premises': ['Premise: Every year, the age at which people can buy their first home goes up.']},\n {'id_': 7,\n  'debate': 'Whichever way you slice it, it is always the same: whether it is private schools, oil giants or those who do not pay their taxes here, every week the right hon. Gentleman hands out cash to those who do not need it. Every week he gets pushed around, and every week he gets weaker. But I can help him with this one. He does not need to do another grubby deal. If he wants to defeat that amendment from his anti-growth Back Benchers on national targets for housing, Labour will lend him the votes to do so. Country before party—that is the Labour way. Why doesn’t he try it?',\n  'claims': ['Claim: The right hon. Gentleman does need to do another grubby deal, but Labour will lend him their votes to defeat the amendment from his anti-growth Back Benchers on national targets for housing if he wants.'],\n  'premises': ['Premise: Every week the right hon Gentleman hands out cash to those who do not need it, he gets pushed around and gets weaker.']},\n {'id_': 8,\n  'debate': 'As hosts of this week’s international Preventing Sexual Violence in Conflict Initiative conference, the UK again highlighted the need for more action to prevent sexual violence in conflict. Given the heartrending accounts of women in Ukraine being brutalised in this way and the reports that a third of women in conflict zones can be victims, will the Prime Minister champion with me, as his special envoy for freedom of religion or belief, the work being undertaken with young people across the world to stop religion or belief being weaponised, which can later manifest into sexual violence in conflict? (902525)',\n  'claims': ['Claim: The Prime Minister should champion the work being done to stop religion or belief from being weaponized.'],\n  'premises': []},\n {'id_': 9,\n  'debate': 'I am sure the whole House will want to join me in sending prayers and condolences to the wife of Doddie Weir, who sadly passed away at the weekend. He was an absolute giant of a man, an inspirational figure in Scottish rugby and someone who raised £8 million for motor neurone disease charities over the past six years. Our thoughts are with Kathy, with Hamish, with Angus and with Ben.Let me wish everyone a happy St Andrew’s day. Those who know anything about St Andrew will know that he is not just the patron of Scotland; he is celebrated right across Europe. That is why it is such a sad sight to watch this Prime Minister ram through a Bill that would rip up 4,000 pieces of European law—laws that protect workers’ rights, food standards and environmental protections. And it is an even worse sight watching the leader of the Labour party desperately trying to out-Brexit the Prime Minister, ruling out freedom of movement and any hope of a Swiss-style deal. Brexit is now the elephant in the room that neither the Tories nor Labour are willing to confront. When will the Prime Minister finally see reality and admit that Brexit is a significant long-term cause of the UK economic crisis?',\n  'claims': ['Claim: \"It is such a sad sight to watch this Prime Minister ram through a Bill that would rip up 4,000 pieces of European law.\"',\n   'Claim: \"When will the Prime Minister finally see reality and admit that Brexit is a significant long-term cause of the UK economic crisis?\"'],\n  'premises': ['Premise: \"He was an absolute giant of a man, an inspirational figure in Scottish rugby and someone who raised £8 million for motor neurone disease charities over the past six years.\"']}]"
     },
     "execution_count": 221,
     "metadata": {},
     "output_type": "execute_result"
    }
   ],
   "source": [
    "parsed_args"
   ],
   "metadata": {
    "collapsed": false
   }
  },
  {
   "cell_type": "code",
   "execution_count": 238,
   "outputs": [
    {
     "name": "stdout",
     "output_type": "stream",
     "text": [
      "digraph {\n",
      "\t0 [label=\"Claim: The Prime Minister should bring forward legislation to allow the people of Scotland to exercise the choice of becoming an independent country.\"]\n",
      "\t0 -> 1\n",
      "\t1 [label=\"Premise 1: David Cameron signed up to the Smith commission.\"]\n",
      "\t1 -> 2\n",
      "\t2 [label=\"Premise 2: The Smith commission promised that nothing in the report would stop Scotland becoming an independent country should the people choose.\"]\n",
      "\t2 -> 3\n",
      "\t3 [label=\"Premise 3: The Supreme Court judgment has passed.\"]\n",
      "}\n",
      "\n",
      "digraph {\n",
      "\t0 [label=\"Claim: China is more than just \\\"a systemic challenge\\\" and is in fact an expanding, serious geopolitical threat\"]\n",
      "\t0 -> 1\n",
      "\t1 [label=\"Premise: I have just returned from the south Pacific and found a deep concern there about the expanding tentacles of communist China.\"]\n",
      "}\n",
      "\n",
      "digraph {\n",
      "\t0 [label=\"Claim: Why did the Prime Minister hand Winchester nearly £6 million of taxpayers' money this year?\"]\n",
      "\t0 -> 1\n",
      "\t1 [label=\"Premise 1: Winchester College charges more than £45,000 a year in fees.\"]\n",
      "\t1 -> 2\n",
      "\t2 [label=\"Premise 2: The Prime Minister's Levelling Up Secretary called it \\\"egregious state support\\\".\"]\n",
      "}\n",
      "\n",
      "digraph {\n",
      "\t0 [label=\"Claim: Scrapping handouts is the best way to end burning injustices.\"]\n",
      "\t0 -> 1\n",
      "\t1 [label=\"Premise: The Prime Minister talks about driving up standards; four in every 10 pupils failed English or maths GCSE in Southampton.\"]\n",
      "}\n",
      "\n",
      "digraph {\n",
      "\t0 [label=\"Claim: Trickle-down education is nonsense\"]\n",
      "\t0 -> 1\n",
      "\t1 [label=\"Premise: The Prime Minister thinks that tax breaks for private schools will improve education in the country\"]\n",
      "}\n",
      "\n",
      "digraph {\n",
      "\t0 [label=\"Claim: The Prime Minister really needs to get out more.\"]\n",
      "\t0 -> 1\n",
      "\t1 [label=\"Premise: They are killing off aspiration in this country, and it is not just about education - why is the dream of home ownership far more remote now than it was when his party came to power 12 years ago?\"]\n",
      "}\n",
      "\n",
      "digraph {\n",
      "\t0 [label=\"Claim: Under this Government, a child born in the UK today would not be able to buy their first home until they were 45.\"]\n",
      "\t0 -> 1\n",
      "\t1 [label=\"Premise: Every year, the age at which people can buy their first home goes up.\"]\n",
      "}\n",
      "\n",
      "digraph {\n",
      "\t0 [label=\"Claim: The right hon. Gentleman does need to do another grubby deal, but Labour will lend him their votes to defeat the amendment from his anti-growth Back Benchers on national targets for housing if he wants.\"]\n",
      "\t0 -> 1\n",
      "\t1 [label=\"Premise: Every week the right hon Gentleman hands out cash to those who do not need it, he gets pushed around and gets weaker.\"]\n",
      "}\n",
      "\n",
      "digraph {\n",
      "\t0 [label=\"Claim: The Prime Minister should champion the work being done to stop religion or belief from being weaponized.\"]\n",
      "}\n",
      "\n",
      "digraph {\n",
      "\t0 [label=\"Claim: \\\"It is such a sad sight to watch this Prime Minister ram through a Bill that would rip up 4,000 pieces of European law.\\\"\"]\n",
      "\t0 -> 1\n",
      "\t1 [label=\"Claim: \\\"When will the Prime Minister finally see reality and admit that Brexit is a significant long-term cause of the UK economic crisis?\\\"\"]\n",
      "\t1 -> 2\n",
      "\t2 [label=\"Premise: \\\"He was an absolute giant of a man, an inspirational figure in Scottish rugby and someone who raised £8 million for motor neurone disease charities over the past six years.\\\"\"]\n",
      "}\n",
      "\n"
     ]
    }
   ],
   "source": [
    "import graphviz\n",
    "\n",
    "for parsed in parsed_args:\n",
    "    dot = graphviz.Digraph(filename=\"pmqs\")\n",
    "\n",
    "    claim = parsed[\"claims\"]\n",
    "    premises = parsed[\"premises\"]\n",
    "\n",
    "    \"\"\" a -> b -> c \"\"\"\n",
    "\n",
    "    adus = claim + premises\n",
    "    idx = list(range(len(claim + premises)))\n",
    "\n",
    "    for i, _ in zip(idx, adus):\n",
    "        dot.node(str(i), _)\n",
    "        if i < len(idx) - 1:\n",
    "            dot.edge(str(i), str(i + 1))\n",
    "\n",
    "\n",
    "    pmq = parsed[\"id_\"]\n",
    "    dot.render(f\"./data/arg_maps/pmqs_{pmq}.gv\")\n",
    "\n",
    "    print(dot.source)"
   ],
   "metadata": {
    "collapsed": false
   }
  },
  {
   "cell_type": "code",
   "execution_count": 184,
   "outputs": [
    {
     "name": "stdout",
     "output_type": "stream",
     "text": [
      "Local cdn resources have problems on chrome/safari when used in jupyter-notebook. \n"
     ]
    },
    {
     "name": "stderr",
     "output_type": "stream",
     "text": [
      "/var/folders/9y/jc1z3n7n78ndcq81djws05m00000gn/T/ipykernel_44643/2270067679.py:2: DeprecationWarning: Importing display from IPython.core.display is deprecated since IPython 7.14, please import from IPython display\n",
      "  from IPython.core.display import display, HTML\n"
     ]
    },
    {
     "data": {
      "text/plain": "<IPython.core.display.HTML object>",
      "text/html": "<html>\n    <head>\n        <meta charset=\"utf-8\">\n        \n            <script src=\"lib/bindings/utils.js\"></script>\n            <link rel=\"stylesheet\" href=\"https://cdnjs.cloudflare.com/ajax/libs/vis-network/9.1.2/dist/dist/vis-network.min.css\" integrity=\"sha512-WgxfT5LWjfszlPHXRmBWHkV2eceiWTOBvrKCNbdgDYTHrT2AeLCGbF4sZlZw3UMN3WtL0tGUoIAKsu8mllg/XA==\" crossorigin=\"anonymous\" referrerpolicy=\"no-referrer\" />\n            <script src=\"https://cdnjs.cloudflare.com/ajax/libs/vis-network/9.1.2/dist/vis-network.min.js\" integrity=\"sha512-LnvoEWDFrqGHlHmDD2101OrLcbsfkrzoSpvtSQtxK3RMnRV0eOkhhBN2dXHKRrUU8p2DGRTk35n4O8nWSVe1mQ==\" crossorigin=\"anonymous\" referrerpolicy=\"no-referrer\"></script>\n            \n        \n<center>\n<h1></h1>\n</center>\n\n<!-- <link rel=\"stylesheet\" href=\"../node_modules/vis/dist/vis.min.css\" type=\"text/css\" />\n<script type=\"text/javascript\" src=\"../node_modules/vis/dist/vis.js\"> </script>-->\n        <link\n          href=\"https://cdn.jsdelivr.net/npm/bootstrap@5.0.0-beta3/dist/css/bootstrap.min.css\"\n          rel=\"stylesheet\"\n          integrity=\"sha384-eOJMYsd53ii+scO/bJGFsiCZc+5NDVN2yr8+0RDqr0Ql0h+rP48ckxlpbzKgwra6\"\n          crossorigin=\"anonymous\"\n        />\n        <script\n          src=\"https://cdn.jsdelivr.net/npm/bootstrap@5.0.0-beta3/dist/js/bootstrap.bundle.min.js\"\n          integrity=\"sha384-JEW9xMcG8R+pH31jmWH6WWP0WintQrMb4s7ZOdauHnUtxwoG2vI5DkLtS3qm9Ekf\"\n          crossorigin=\"anonymous\"\n        ></script>\n\n\n        <center>\n          <h1></h1>\n        </center>\n        <style type=\"text/css\">\n\n             #mynetwork {\n                 width: 100%;\n                 height: 600px;\n                 background-color: #ffffff;\n                 border: 1px solid lightgray;\n                 position: relative;\n                 float: left;\n             }\n\n             \n\n             \n\n             \n        </style>\n    </head>\n\n\n    <body>\n        <div class=\"card\" style=\"width: 100%\">\n            \n            \n            <div id=\"mynetwork\" class=\"card-body\"></div>\n        </div>\n\n        \n        \n\n        <script type=\"text/javascript\">\n\n              // initialize global variables.\n              var edges;\n              var nodes;\n              var allNodes;\n              var allEdges;\n              var nodeColors;\n              var originalNodes;\n              var network;\n              var container;\n              var options, data;\n              var filter = {\n                  item : '',\n                  property : '',\n                  value : []\n              };\n\n              \n\n              \n\n              // This method is responsible for drawing the graph, returns the drawn network\n              function drawGraph() {\n                  var container = document.getElementById('mynetwork');\n\n                  \n\n                  // parsing and collecting nodes and edges from the python\n                  nodes = new vis.DataSet([{\"color\": \"#97c2fc\", \"id\": \"China is more than just \\\"a systemic challenge\\\" and is in fact an expanding, serious geopolitical threat\", \"label\": \"China is more than just \\\"a systemic challenge\\\" and is in fact an expanding, serious geopolitical threat\", \"shape\": \"dot\", \"title\": \"claim\"}, {\"color\": \"#97c2fc\", \"id\": \"I have just returned from the south Pacific and found a deep concern there about the expanding tentacles of communist China.\", \"label\": \"I have just returned from the south Pacific and found a deep concern there about the expanding tentacles of communist China.\", \"shape\": \"dot\", \"title\": \"premise\"}]);\n                  edges = new vis.DataSet([{\"from\": \"I have just returned from the south Pacific and found a deep concern there about the expanding tentacles of communist China.\", \"to\": \"China is more than just \\\"a systemic challenge\\\" and is in fact an expanding, serious geopolitical threat\"}]);\n\n                  nodeColors = {};\n                  allNodes = nodes.get({ returnType: \"Object\" });\n                  for (nodeId in allNodes) {\n                    nodeColors[nodeId] = allNodes[nodeId].color;\n                  }\n                  allEdges = edges.get({ returnType: \"Object\" });\n                  // adding nodes and edges to the graph\n                  data = {nodes: nodes, edges: edges};\n\n                  var options = {\n    \"configure\": {\n        \"enabled\": false\n    },\n    \"edges\": {\n        \"color\": {\n            \"inherit\": true\n        },\n        \"smooth\": {\n            \"enabled\": true,\n            \"type\": \"dynamic\"\n        }\n    },\n    \"interaction\": {\n        \"dragNodes\": true,\n        \"hideEdgesOnDrag\": false,\n        \"hideNodesOnDrag\": false\n    },\n    \"physics\": {\n        \"enabled\": true,\n        \"stabilization\": {\n            \"enabled\": true,\n            \"fit\": true,\n            \"iterations\": 1000,\n            \"onlyDynamicEdges\": false,\n            \"updateInterval\": 50\n        }\n    }\n};\n\n                  \n\n\n                  \n\n                  network = new vis.Network(container, data, options);\n\n                  \n\n                  \n\n                  \n\n\n                  \n\n                  return network;\n\n              }\n              drawGraph();\n        </script>\n    </body>\n</html>"
     },
     "metadata": {},
     "output_type": "display_data"
    }
   ],
   "source": [
    "# from pyvis.network import Network\n",
    "# from IPython.core.display import display, HTML\n",
    "#\n",
    "# net = Network(notebook = True)\n",
    "#\n",
    "# nodes = [\"claim\", \"premise_1\"]\n",
    "# titles = [claim, premise_1]\n",
    "# net.add_node(claim, title=\"claim\")\n",
    "# net.add_node(premise_1, title=\"premise\")\n",
    "# net.add_edge(premise_1, claim)\n",
    "#\n",
    "# net.show(\"test.html\")\n",
    "# display(HTML(\"test.html\"))"
   ],
   "metadata": {
    "collapsed": false
   }
  }
 ],
 "metadata": {
  "kernelspec": {
   "display_name": "Python 3",
   "language": "python",
   "name": "python3"
  },
  "language_info": {
   "codemirror_mode": {
    "name": "ipython",
    "version": 2
   },
   "file_extension": ".py",
   "mimetype": "text/x-python",
   "name": "python",
   "nbconvert_exporter": "python",
   "pygments_lexer": "ipython2",
   "version": "2.7.6"
  }
 },
 "nbformat": 4,
 "nbformat_minor": 0
}
