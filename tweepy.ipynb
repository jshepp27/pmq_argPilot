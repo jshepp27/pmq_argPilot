{
 "cells": [
  {
   "cell_type": "code",
   "execution_count": 3,
   "metadata": {
    "collapsed": true
   },
   "outputs": [],
   "source": [
    "import load_config\n",
    "import os\n",
    "import tweepy"
   ]
  },
  {
   "cell_type": "code",
   "execution_count": 5,
   "outputs": [
    {
     "data": {
      "text/plain": "('MlQU4PGPlTqCvSieCx8ZDPFRg',\n 'GUk5GgaYhBepLOcL5KwWNp4oxnEzKIWT8RXRuKGJA7mFxOFOgO',\n 'AAAAAAAAAAAAAAAAAAAAAF7ZbAEAAAAAtie1EBlBR0hgSNsVaOVrxGG5Mgc%3DTwfFVE4EU7B9zjUpmuhNxgu7KorgUvhBm1zIt1Uyw8eD1ySD0W')"
     },
     "execution_count": 5,
     "metadata": {},
     "output_type": "execute_result"
    }
   ],
   "source": [
    "TWITTER_KEY = os.environ[\"TWITTER_KEY\"]\n",
    "TWITTER_SECRET = os.environ[\"TWITTER_SECRET\"]\n",
    "BEARER_TOKEN = os.environ[\"BEARER_TOKEN\"]\n",
    "\n",
    "TWITTER_KEY, TWITTER_SECRET, BEARER_TOKEN"
   ],
   "metadata": {
    "collapsed": false
   }
  },
  {
   "cell_type": "code",
   "execution_count": 7,
   "outputs": [],
   "source": [
    "client = tweepy.Client(\n",
    "    bearer_token=BEARER_TOKEN,\n",
    "    consumer_key=TWITTER_KEY,\n",
    "    consumer_secret=TWITTER_SECRET)"
   ],
   "metadata": {
    "collapsed": false
   }
  },
  {
   "cell_type": "code",
   "execution_count": null,
   "outputs": [],
   "source": [
    "# Bitcoin\n",
    "# Brexit\n",
    "# Covid\n",
    "# Vaccine\n",
    "#"
   ],
   "metadata": {
    "collapsed": false
   }
  },
  {
   "cell_type": "code",
   "execution_count": 11,
   "outputs": [
    {
     "ename": "AttributeError",
     "evalue": "'Response' object has no attribute 'json'",
     "output_type": "error",
     "traceback": [
      "\u001B[0;31m---------------------------------------------------------------------------\u001B[0m",
      "\u001B[0;31mAttributeError\u001B[0m                            Traceback (most recent call last)",
      "Cell \u001B[0;32mIn[11], line 1\u001B[0m\n\u001B[0;32m----> 1\u001B[0m results \u001B[38;5;241m=\u001B[39m \u001B[43mclient\u001B[49m\u001B[38;5;241;43m.\u001B[39;49m\u001B[43msearch_all_tweets\u001B[49m\u001B[43m(\u001B[49m\u001B[38;5;124;43m\"\u001B[39;49m\u001B[38;5;124;43mbitcoin\u001B[39;49m\u001B[38;5;124;43m\"\u001B[39;49m\u001B[43m)\u001B[49m\u001B[38;5;241;43m.\u001B[39;49m\u001B[43mjson\u001B[49m()\n",
      "\u001B[0;31mAttributeError\u001B[0m: 'Response' object has no attribute 'json'"
     ]
    }
   ],
   "source": [
    "results = client.search_all_tweets(\"bitcoin\")"
   ],
   "metadata": {
    "collapsed": false
   }
  },
  {
   "cell_type": "code",
   "execution_count": 20,
   "outputs": [
    {
     "name": "stdout",
     "output_type": "stream",
     "text": [
      "4\n",
      "[<Tweet id=1610035541805879297 text=\"RT @Margexcom: Has #Bitcoin bottomed out already or are we in for lower lows? What's in store for $BTC in 2023?\">,\n",
      " <Tweet id=1610035541361426432 text='RT @CryptoTroiaYdk: 0,066$’dan paylaştığım #ALPHA 0,076$ oldu. Kâr %16, Hedef %50!\\n\\nStopları girişe çekelim, 0,1$ hedefini bekleyelim.. 🧿🚀…'>,\n",
      " <Tweet id=1610035540803424259 text='Sooooo is today #Bitcoin Christmas or #Bitcoin New Year? \\nStack sats🧡⚡'>,\n",
      " <Tweet id=1610035539163639808 text='RT @finxeed: 🤔I want to get #funded up to $200,000 and 90% #profit split... \\n\\nBut, how? \\nHow could I join the world first crypto-based prop…'>,\n",
      " <Tweet id=1610035537343135745 text='RT @Crypto101SA: 🎁2 KİŞİYE 1000 TL HEDİYE  🎁\\n\\n- Bu tweeti RT FAV \\n\\n- @metaman_meta  ve bizi  takip edin \\n\\n-  1 arkadaşınızı etiketleyin…'>,\n",
      " <Tweet id=1610035537208827904 text=\"@BillyM2k I don't know if you know, some guys created a bitcoin meme called old bitcoin, #bc in 3 days made 14,500%, the team is doing massive and global marketing, will launch the DAO. #Bitcoin @OldBTCErc https://t.co/xuSSWajHxT\">,\n",
      " <Tweet id=1610035537162764290 text='1: Bitcoin price is $16751.18 (0.09% 1h)\\n2: Ethereum price is $1219.28 (0.04% 1h)\\n3: Tether price is $1.00 (0.00% 1h)\\n4: USD Coin price is $1.00 (-0.00% 1h)\\n5: BNB price is $247.34 (0.02% 1h)\\n8: Dogecoin price is $0.07 (0.24% 1h)'>,\n",
      " <Tweet id=1610035536659623936 text='🔥 Participate in our giveaway: 🔥\\n\\nhttps://t.co/SA9oUMdvVn\\n\\n@saiyajin_DAO #saiyajindao #cryptocurrencies #Crypto #Ethereum #ETH #BTC #Bitcoin #memecoin #altcoin \\n\\nmention 3 friends @Dann @Ware @Eustolia'>,\n",
      " <Tweet id=1610035536013725696 text=\"RT @PBDBlockchain: I tried out Cash Rain recently. It allows creators to micro reward their communities in Bitcoin Cash. I'll use it on thi…\">,\n",
      " <Tweet id=1610035535510134786 text='Are you a $BC holder yet? I have seen it all over my twitter, I had to buy some since buying #Bitcoin at $0.20 a token is too good of a narrative. Not even listed on coingecko or coinmarketcap yet so very early here.\\n\\nhttps://t.co/hSTFiLieLF\\n\\n#ad https://t.co/nLBvlj0puw'>]\n",
      "{}\n",
      "[]\n",
      "{'newest_id': '1610035541805879297',\n",
      " 'next_token': 'b26v89c19zqg8o3fqk3zcaswhptq9veof1cdbqzvvqxdp',\n",
      " 'oldest_id': '1610035535510134786',\n",
      " 'result_count': 10}\n"
     ]
    }
   ],
   "source": [
    "import json\n",
    "from pprint import pprint\n",
    "\n",
    "print(len(results))\n",
    "for _ in results:\n",
    "    pprint(_)"
   ],
   "metadata": {
    "collapsed": false
   }
  },
  {
   "cell_type": "code",
   "execution_count": null,
   "outputs": [],
   "source": [],
   "metadata": {
    "collapsed": false
   }
  }
 ],
 "metadata": {
  "kernelspec": {
   "display_name": "Python 3",
   "language": "python",
   "name": "python3"
  },
  "language_info": {
   "codemirror_mode": {
    "name": "ipython",
    "version": 2
   },
   "file_extension": ".py",
   "mimetype": "text/x-python",
   "name": "python",
   "nbconvert_exporter": "python",
   "pygments_lexer": "ipython2",
   "version": "2.7.6"
  }
 },
 "nbformat": 4,
 "nbformat_minor": 0
}
